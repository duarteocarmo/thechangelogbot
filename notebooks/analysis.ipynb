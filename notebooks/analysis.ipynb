{
 "cells": [
  {
   "cell_type": "code",
   "execution_count": 1,
   "metadata": {},
   "outputs": [
    {
     "data": {
      "text/html": [
       "\n",
       "                <script type=\"application/javascript\" id=\"jupyter_black\">\n",
       "                (function() {\n",
       "                    if (window.IPython === undefined) {\n",
       "                        return\n",
       "                    }\n",
       "                    var msg = \"WARNING: it looks like you might have loaded \" +\n",
       "                        \"jupyter_black in a non-lab notebook with \" +\n",
       "                        \"`is_lab=True`. Please double check, and if \" +\n",
       "                        \"loading with `%load_ext` please review the README!\"\n",
       "                    console.log(msg)\n",
       "                    alert(msg)\n",
       "                })()\n",
       "                </script>\n",
       "                "
      ],
      "text/plain": [
       "<IPython.core.display.HTML object>"
      ]
     },
     "metadata": {},
     "output_type": "display_data"
    }
   ],
   "source": [
    "import os\n",
    "import pathlib\n",
    "import re\n",
    "import random\n",
    "import jupyter_black\n",
    "\n",
    "jupyter_black.load()\n",
    "\n",
    "podcast_name = \"podcast\"\n",
    "root_directory = f\"../transcripts/{podcast_name}\"\n",
    "\n"
   ]
  },
  {
   "cell_type": "code",
   "execution_count": 2,
   "metadata": {},
   "outputs": [],
   "source": [
    "def clean_text(text: str) -> str:\n",
    "    text = re.sub(r\"\\\\\\[\\d{1,2}:\\d{1,2}\\\\\\]\\s\", \"\", text)\n",
    "    text = re.sub(r\"\\s+\", \" \", text)\n",
    "    text = text.strip()\n",
    "    return text\n",
    "\n",
    "\n",
    "def filter_items(\n",
    "    items: list[tuple[str, str]], num_words: int = 15\n",
    ") -> list[tuple[str, str]]:\n",
    "    items = [(s, t) for s, t in items if s != \"Break\"]\n",
    "    items = [(s, clean_text(t)) for s, t in items]\n",
    "    items = [(s, t) for s, t in items if len(t.split()) > num_words]\n",
    "\n",
    "    return items\n",
    "\n",
    "\n",
    "def parse_episode_text(\n",
    "    episode_text: str,\n",
    ") -> tuple[list[tuple[str, str]], list[str]]:\n",
    "    text = \"\"\n",
    "    speaking_items = []\n",
    "    last_speaker = None\n",
    "\n",
    "    for line in episode_text.splitlines():\n",
    "        if not line:\n",
    "            continue\n",
    "\n",
    "        speaker_match = re.match(r\"^\\*\\*(.+?):\\*\\*\", line)\n",
    "\n",
    "        if speaker_match:\n",
    "            if last_speaker and text:\n",
    "                speaking_items.append((last_speaker, text.strip()))\n",
    "\n",
    "            speaker = speaker_match.group(1)\n",
    "            text = line.replace(f\"**{speaker}:** \", \"\")\n",
    "            last_speaker = speaker\n",
    "\n",
    "        else:\n",
    "            text += \" \" + line\n",
    "\n",
    "    if last_speaker and text:\n",
    "        speaking_items.append((last_speaker, text.strip()))\n",
    "\n",
    "    speaking_items = filter_items(speaking_items)\n",
    "    speakers = list(set([s for s, _ in speaking_items]))\n",
    "\n",
    "    return speaking_items, speakers\n",
    "\n",
    "\n",
    "# texts = []\n",
    "\n",
    "for file in pathlib.Path(root_directory).iterdir():\n",
    "    episode_number = int(file.stem.split(\"-\")[-1])\n",
    "    episode_text = file.read_text()\n",
    "    parsed, speakers = parse_episode_text(episode_text)\n",
    "    # print(speakers)\n",
    "    # break\n",
    "    # texts.append(episode_text)"
   ]
  }
 ],
 "metadata": {
  "kernelspec": {
   "display_name": ".env",
   "language": "python",
   "name": "python3"
  },
  "language_info": {
   "codemirror_mode": {
    "name": "ipython",
    "version": 3
   },
   "file_extension": ".py",
   "mimetype": "text/x-python",
   "name": "python",
   "nbconvert_exporter": "python",
   "pygments_lexer": "ipython3",
   "version": "3.10.11"
  },
  "orig_nbformat": 4
 },
 "nbformat": 4,
 "nbformat_minor": 2
}
